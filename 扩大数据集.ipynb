{
 "cells": [
  {
   "cell_type": "code",
   "execution_count": 3,
   "id": "3d13d858-0b04-4f48-8c78-1b167f5f7d20",
   "metadata": {},
   "outputs": [],
   "source": [
    "#!/usr/bin/env python\n",
    "# coding: utf-8\n",
    "\n",
    "# In[2]:\n",
    "\n",
    "\n",
    "import pandas as pd\n",
    "import numpy as np\n",
    "import random\n",
    "# 读取csv文件\n",
    "df = pd.read_csv('训练测试集11特征.csv')\n",
    "\n",
    "\n",
    "# In[11]:\n",
    "\n",
    "\n",
    "a_array = np.array(df[['C_Boiling point', 'C_relative density', 'C_Dielectric constant', 'C_Eccentricity']])\n",
    "b_array = np.array(df[['D_molecular weight', 'D_Relative vapor pressure', 'D_Dielectric constant', 'D_Polarizability', 'D_Dipole moment', 'D_Eccentricity']])\n",
    "c_array = np.array(df[['E_Eccentricity']])\n",
    "newArray = list()\n",
    "for i in range(len(a_array)):\n",
    "    newArray.append(a_array[i])\n",
    "for i in range(len(b_array)):\n",
    "    newArray.append(b_array[i])\n",
    "for i in range(len(c_array)):\n",
    "    newArray.append(c_array[i])\n",
    "newArray\n",
    "\n",
    "\n",
    "# In[34]:\n",
    "\n",
    "\n",
    "result = list()\n",
    "for i in range(len(a_array)):\n",
    "    for j in range(len(a_array),len(a_array)+len(b_array)):\n",
    "        for k in range(len(a_array)+len(b_array),len(a_array)+len(b_array)+len(c_array)):\n",
    "            res = np.concatenate((newArray[i],newArray[j],newArray[k]))\n",
    "            result.append(res)\n",
    "result\n",
    "\n",
    "\n",
    "# In[43]:\n",
    "\n",
    "\n",
    "#颠倒一下输出\n",
    "newResult = np.transpose(result)\n",
    "data = {\n",
    "    'C_Boiling point': newResult[0],\n",
    "     'C_relative density': newResult[1],\n",
    "     'C_Dielectric constant': newResult[2],\n",
    "   'C_Eccentricity': newResult[3],\n",
    "   'D_molecular weight': newResult[4],\n",
    " \n",
    "   'D_Relative vapor pressure' : newResult[5],\n",
    "  'D_Dielectric constant' : newResult[6],\n",
    "  'D_Polarizability'  : newResult[7],\n",
    "   'D_Dipole moment': newResult[8],\n",
    "  'D_Eccentricity': newResult[9],\n",
    "    'E_Eccentricity' : newResult[10],\n",
    "    \n",
    "   \n",
    "   \n",
    "  \n",
    "    \n",
    "    \n",
    "}\n",
    "df_result1 = pd.DataFrame(data)\n",
    "\n",
    "\n",
    "# In[45]:\n",
    "\n",
    "\n",
    "df_result1.to_csv('result_csv_file.csv', index=False)\n",
    "\n",
    "\n",
    "# In[ ]:"
   ]
  },
  {
   "cell_type": "code",
   "execution_count": 1,
   "id": "615f7b56-3a61-4b77-b6ee-d6fa82a65f6f",
   "metadata": {},
   "outputs": [
    {
     "name": "stdout",
     "output_type": "stream",
     "text": [
      "['C_Boiling point', 'C_relative density', 'C_Dielectric constant', 'C_Eccentricity', 'D_molecular weight', 'D_Relative vapor pressure', 'D_Dielectric constant', 'D_Polarizability', 'D_Dipole moment', 'D_Eccentricity', 'E_Eccentricity', 'stablity']\n"
     ]
    }
   ],
   "source": [
    "import pandas as pd\n",
    "df = pd.read_csv('训练测试集11特征.csv')\n",
    "print(df.columns.tolist())"
   ]
  },
  {
   "cell_type": "code",
   "execution_count": null,
   "id": "97b4fcc3-b767-4c59-93a5-bc939f0cd3b0",
   "metadata": {},
   "outputs": [],
   "source": []
  }
 ],
 "metadata": {
  "kernelspec": {
   "display_name": "NJmatML",
   "language": "python",
   "name": "njmatml"
  },
  "language_info": {
   "codemirror_mode": {
    "name": "ipython",
    "version": 3
   },
   "file_extension": ".py",
   "mimetype": "text/x-python",
   "name": "python",
   "nbconvert_exporter": "python",
   "pygments_lexer": "ipython3",
   "version": "3.9.12"
  }
 },
 "nbformat": 4,
 "nbformat_minor": 5
}
